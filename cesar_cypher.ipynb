{
 "cells": [
  {
   "cell_type": "code",
   "execution_count": 10,
   "metadata": {},
   "outputs": [],
   "source": [
    "def EncryptText(key, text):\n",
    "    alphabet = list('abcdefghijklmnopqrstuvwxyz')\n",
    "    encrypted_text = \"\"\n",
    "    for char in text:\n",
    "        if char in alphabet:\n",
    "            index = alphabet.index(char)+key\n",
    "            if index > len(alphabet):\n",
    "                index = index - len(alphabet)\n",
    "            encrypted_text += alphabet[index]\n",
    "        else:\n",
    "            encrypted_text += char\n",
    "    return encrypted_text\n"
   ]
  },
  {
   "cell_type": "code",
   "execution_count": 11,
   "metadata": {},
   "outputs": [
    {
     "name": "stdout",
     "output_type": "stream",
     "text": [
      "Hjqqt Wtwqi\n"
     ]
    }
   ],
   "source": [
    "print(EncryptText(5,\"Hello World\"))"
   ]
  }
 ],
 "metadata": {
  "kernelspec": {
   "display_name": "venv",
   "language": "python",
   "name": "python3"
  },
  "language_info": {
   "codemirror_mode": {
    "name": "ipython",
    "version": 3
   },
   "file_extension": ".py",
   "mimetype": "text/x-python",
   "name": "python",
   "nbconvert_exporter": "python",
   "pygments_lexer": "ipython3",
   "version": "3.13.0"
  }
 },
 "nbformat": 4,
 "nbformat_minor": 2
}
